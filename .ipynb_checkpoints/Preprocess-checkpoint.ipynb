{
 "cells": [
  {
   "cell_type": "code",
   "execution_count": 1,
   "id": "2e3bc3b5",
   "metadata": {},
   "outputs": [
    {
     "name": "stdout",
     "output_type": "stream",
     "text": [
      " Volume in drive C is OS\n",
      " Volume Serial Number is A479-8D11\n",
      "\n",
      " Directory of C:\\Users\\bazif\\Desktop\\Project\n",
      "\n",
      "21-02-2022  22:03    <DIR>          .\n",
      "21-02-2022  22:03    <DIR>          ..\n",
      "21-02-2022  22:03    <DIR>          .ipynb_checkpoints\n",
      "21-02-2022  14:18         1,291,479 ISIC_2019_Training_GroundTruth.csv\n",
      "21-02-2022  22:00    <DIR>          ISIC_2019_Training_Input\n",
      "21-02-2022  14:18         1,214,351 ISIC_2019_Training_Metadata.csv\n",
      "21-02-2022  22:03               588 Main.ipynb\n",
      "21-02-2022  13:21            32,098 Untitled.ipynb\n",
      "21-02-2022  22:03                72 Untitled1.ipynb\n",
      "               5 File(s)      2,538,588 bytes\n",
      "               4 Dir(s)  779,080,261,632 bytes free\n"
     ]
    }
   ],
   "source": [
    "!dir"
   ]
  },
  {
   "cell_type": "code",
   "execution_count": null,
   "id": "478822a2",
   "metadata": {},
   "outputs": [],
   "source": [
    "!pip install pandas"
   ]
  },
  {
   "cell_type": "code",
   "execution_count": null,
   "id": "87fb130d",
   "metadata": {},
   "outputs": [],
   "source": []
  }
 ],
 "metadata": {
  "kernelspec": {
   "display_name": "Python 3 (ipykernel)",
   "language": "python",
   "name": "python3"
  },
  "language_info": {
   "codemirror_mode": {
    "name": "ipython",
    "version": 3
   },
   "file_extension": ".py",
   "mimetype": "text/x-python",
   "name": "python",
   "nbconvert_exporter": "python",
   "pygments_lexer": "ipython3",
   "version": "3.9.7"
  }
 },
 "nbformat": 4,
 "nbformat_minor": 5
}
