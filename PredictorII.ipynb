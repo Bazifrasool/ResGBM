{
 "cells": [
  {
   "cell_type": "code",
   "execution_count": 1,
   "id": "1e6841b9",
   "metadata": {},
   "outputs": [],
   "source": [
    "import h5py \n",
    "import numpy as np\n",
    "fs  = h5py.File(\"FeatureMatrix_trainedmodel.hdf5\",\"r\")\n",
    "ds = fs[\"featuresmatrix\"]"
   ]
  },
  {
   "cell_type": "code",
   "execution_count": 2,
   "id": "783d2f8e",
   "metadata": {},
   "outputs": [
    {
     "name": "stdout",
     "output_type": "stream",
     "text": [
      "(7872, 2)\n",
      "(7872, 2048)\n"
     ]
    }
   ],
   "source": [
    "ds_arr = ds[:]\n",
    "ytarget=np.load(\"YpredforClassesWname.npy\")\n",
    "print(ytarget.shape)\n",
    "print(ds_arr.shape)"
   ]
  },
  {
   "cell_type": "code",
   "execution_count": 3,
   "id": "e7641cc4",
   "metadata": {},
   "outputs": [],
   "source": [
    "total = np.concatenate((ds_arr,ytarget[:,1].reshape(-1,1)),axis=1).astype(\"float32\")"
   ]
  },
  {
   "cell_type": "code",
   "execution_count": 4,
   "id": "1223e93a",
   "metadata": {},
   "outputs": [],
   "source": [
    "from sklearn.model_selection import train_test_split\n",
    "X_train, X_test, y_train, y_test = train_test_split(total[:,:-1], total[:,-1], test_size = 0.1, random_state = 0)"
   ]
  },
  {
   "cell_type": "code",
   "execution_count": 5,
   "id": "6b4e74ad",
   "metadata": {},
   "outputs": [],
   "source": [
    "X=total[:,:-1]\n",
    "y=total[:,-1]"
   ]
  },
  {
   "cell_type": "code",
   "execution_count": 15,
   "id": "bbe11710",
   "metadata": {},
   "outputs": [
    {
     "name": "stderr",
     "output_type": "stream",
     "text": [
      "\u001b[32m[I 2022-05-05 13:10:56,353]\u001b[0m A new study created in memory with name: no-name-ee30a58a-3da9-4849-9740-bf11f6360569\u001b[0m\n",
      "C:\\Users\\bazif\\anaconda3\\envs\\TensorflowGPU\\lib\\site-packages\\lightgbm\\engine.py:177: UserWarning: Found `n_estimators` in params. Will use it instead of argument\n",
      "  _log_warning(f\"Found `{alias}` in params. Will use it instead of argument\")\n"
     ]
    },
    {
     "name": "stdout",
     "output_type": "stream",
     "text": [
      "[LightGBM] [Info] Total Bins 376856\n",
      "[LightGBM] [Info] Number of data points in the train set: 5904, number of used features: 1837\n",
      "[LightGBM] [Info] Start training from score 1.001186\n"
     ]
    },
    {
     "name": "stderr",
     "output_type": "stream",
     "text": [
      "\u001b[32m[I 2022-05-05 13:11:34,806]\u001b[0m Trial 0 finished with value: 0.5980691056910569 and parameters: {'n_estimators': 689, 'reg_alpha': 0.15096482730511437, 'reg_lambda': 0.0408548546315297}. Best is trial 0 with value: 0.5980691056910569.\u001b[0m\n"
     ]
    },
    {
     "name": "stdout",
     "output_type": "stream",
     "text": [
      "[2. 1. 1. ... 0. 1. 2.] [2. 1. 2. ... 0. 2. 1.]\n"
     ]
    },
    {
     "name": "stderr",
     "output_type": "stream",
     "text": [
      "C:\\Users\\bazif\\anaconda3\\envs\\TensorflowGPU\\lib\\site-packages\\lightgbm\\engine.py:177: UserWarning: Found `n_estimators` in params. Will use it instead of argument\n",
      "  _log_warning(f\"Found `{alias}` in params. Will use it instead of argument\")\n"
     ]
    },
    {
     "name": "stdout",
     "output_type": "stream",
     "text": [
      "[LightGBM] [Info] Total Bins 375558\n",
      "[LightGBM] [Info] Number of data points in the train set: 5904, number of used features: 1836\n",
      "[LightGBM] [Info] Start training from score 1.005928\n"
     ]
    },
    {
     "name": "stderr",
     "output_type": "stream",
     "text": [
      "\u001b[32m[I 2022-05-05 13:12:27,532]\u001b[0m Trial 1 finished with value: 0.6148373983739838 and parameters: {'n_estimators': 946, 'reg_alpha': 0.06767847379343005, 'reg_lambda': 0.06127195567241332}. Best is trial 1 with value: 0.6148373983739838.\u001b[0m\n"
     ]
    },
    {
     "name": "stdout",
     "output_type": "stream",
     "text": [
      "[0. 0. 1. ... 1. 1. 0.] [0. 0. 1. ... 2. 0. 0.]\n"
     ]
    },
    {
     "name": "stderr",
     "output_type": "stream",
     "text": [
      "C:\\Users\\bazif\\anaconda3\\envs\\TensorflowGPU\\lib\\site-packages\\lightgbm\\engine.py:177: UserWarning: Found `n_estimators` in params. Will use it instead of argument\n",
      "  _log_warning(f\"Found `{alias}` in params. Will use it instead of argument\")\n"
     ]
    },
    {
     "name": "stdout",
     "output_type": "stream",
     "text": [
      "[LightGBM] [Info] Total Bins 374579\n",
      "[LightGBM] [Info] Number of data points in the train set: 5904, number of used features: 1832\n",
      "[LightGBM] [Info] Start training from score 1.005759\n"
     ]
    },
    {
     "name": "stderr",
     "output_type": "stream",
     "text": [
      "\u001b[32m[I 2022-05-05 13:13:14,223]\u001b[0m Trial 2 finished with value: 0.6178861788617886 and parameters: {'n_estimators': 912, 'reg_alpha': 0.24835612413091213, 'reg_lambda': 0.0214330912577284}. Best is trial 2 with value: 0.6178861788617886.\u001b[0m\n"
     ]
    },
    {
     "name": "stdout",
     "output_type": "stream",
     "text": [
      "[1. 2. 0. ... 0. 1. 1.] [0. 2. 0. ... 2. 1. 2.]\n"
     ]
    },
    {
     "name": "stderr",
     "output_type": "stream",
     "text": [
      "C:\\Users\\bazif\\anaconda3\\envs\\TensorflowGPU\\lib\\site-packages\\lightgbm\\engine.py:177: UserWarning: Found `n_estimators` in params. Will use it instead of argument\n",
      "  _log_warning(f\"Found `{alias}` in params. Will use it instead of argument\")\n"
     ]
    },
    {
     "name": "stdout",
     "output_type": "stream",
     "text": [
      "[LightGBM] [Info] Total Bins 376720\n",
      "[LightGBM] [Info] Number of data points in the train set: 5904, number of used features: 1838\n",
      "[LightGBM] [Info] Start training from score 1.002879\n"
     ]
    },
    {
     "name": "stderr",
     "output_type": "stream",
     "text": [
      "\u001b[32m[I 2022-05-05 13:13:52,672]\u001b[0m Trial 3 finished with value: 0.6158536585365854 and parameters: {'n_estimators': 674, 'reg_alpha': 0.2933352945523914, 'reg_lambda': 0.19037306493076114}. Best is trial 2 with value: 0.6178861788617886.\u001b[0m\n"
     ]
    },
    {
     "name": "stdout",
     "output_type": "stream",
     "text": [
      "[2. 1. 0. ... 1. 1. 1.] [2. 1. 0. ... 2. 1. 0.]\n"
     ]
    },
    {
     "name": "stderr",
     "output_type": "stream",
     "text": [
      "C:\\Users\\bazif\\anaconda3\\envs\\TensorflowGPU\\lib\\site-packages\\lightgbm\\engine.py:177: UserWarning: Found `n_estimators` in params. Will use it instead of argument\n",
      "  _log_warning(f\"Found `{alias}` in params. Will use it instead of argument\")\n"
     ]
    },
    {
     "name": "stdout",
     "output_type": "stream",
     "text": [
      "[LightGBM] [Info] Total Bins 376126\n",
      "[LightGBM] [Info] Number of data points in the train set: 5904, number of used features: 1838\n",
      "[LightGBM] [Info] Start training from score 1.001694\n"
     ]
    },
    {
     "name": "stderr",
     "output_type": "stream",
     "text": [
      "\u001b[32m[I 2022-05-05 13:14:43,139]\u001b[0m Trial 4 finished with value: 0.6122967479674797 and parameters: {'n_estimators': 969, 'reg_alpha': 0.23585367720633302, 'reg_lambda': 0.07846158999224885}. Best is trial 2 with value: 0.6178861788617886.\u001b[0m\n"
     ]
    },
    {
     "name": "stdout",
     "output_type": "stream",
     "text": [
      "[1. 1. 0. ... 1. 1. 1.] [0. 1. 1. ... 0. 1. 0.]\n"
     ]
    },
    {
     "name": "stderr",
     "output_type": "stream",
     "text": [
      "C:\\Users\\bazif\\anaconda3\\envs\\TensorflowGPU\\lib\\site-packages\\lightgbm\\engine.py:177: UserWarning: Found `n_estimators` in params. Will use it instead of argument\n",
      "  _log_warning(f\"Found `{alias}` in params. Will use it instead of argument\")\n"
     ]
    },
    {
     "name": "stdout",
     "output_type": "stream",
     "text": [
      "[LightGBM] [Info] Total Bins 376309\n",
      "[LightGBM] [Info] Number of data points in the train set: 5904, number of used features: 1837\n",
      "[LightGBM] [Info] Start training from score 1.012026\n"
     ]
    },
    {
     "name": "stderr",
     "output_type": "stream",
     "text": [
      "\u001b[32m[I 2022-05-05 13:15:21,619]\u001b[0m Trial 5 finished with value: 0.6270325203252033 and parameters: {'n_estimators': 680, 'reg_alpha': 0.2676389866456474, 'reg_lambda': 0.22579485036757255}. Best is trial 5 with value: 0.6270325203252033.\u001b[0m\n"
     ]
    },
    {
     "name": "stdout",
     "output_type": "stream",
     "text": [
      "[2. 0. 2. ... 1. 1. 1.] [2. 0. 1. ... 0. 2. 1.]\n"
     ]
    },
    {
     "name": "stderr",
     "output_type": "stream",
     "text": [
      "C:\\Users\\bazif\\anaconda3\\envs\\TensorflowGPU\\lib\\site-packages\\lightgbm\\engine.py:177: UserWarning: Found `n_estimators` in params. Will use it instead of argument\n",
      "  _log_warning(f\"Found `{alias}` in params. Will use it instead of argument\")\n"
     ]
    },
    {
     "name": "stdout",
     "output_type": "stream",
     "text": [
      "[LightGBM] [Info] Total Bins 374802\n",
      "[LightGBM] [Info] Number of data points in the train set: 5904, number of used features: 1835\n",
      "[LightGBM] [Info] Start training from score 1.008299\n"
     ]
    },
    {
     "name": "stderr",
     "output_type": "stream",
     "text": [
      "\u001b[32m[I 2022-05-05 13:15:41,274]\u001b[0m Trial 6 finished with value: 0.5990853658536586 and parameters: {'n_estimators': 291, 'reg_alpha': 0.15882517464870685, 'reg_lambda': 0.18116002559562477}. Best is trial 5 with value: 0.6270325203252033.\u001b[0m\n"
     ]
    },
    {
     "name": "stdout",
     "output_type": "stream",
     "text": [
      "[1. 0. 1. ... 1. 1. 1.] [1. 0. 2. ... 0. 0. 1.]\n"
     ]
    },
    {
     "name": "stderr",
     "output_type": "stream",
     "text": [
      "C:\\Users\\bazif\\anaconda3\\envs\\TensorflowGPU\\lib\\site-packages\\lightgbm\\engine.py:177: UserWarning: Found `n_estimators` in params. Will use it instead of argument\n",
      "  _log_warning(f\"Found `{alias}` in params. Will use it instead of argument\")\n"
     ]
    },
    {
     "name": "stdout",
     "output_type": "stream",
     "text": [
      "[LightGBM] [Info] Total Bins 376725\n",
      "[LightGBM] [Info] Number of data points in the train set: 5904, number of used features: 1840\n",
      "[LightGBM] [Info] Start training from score 1.001863\n"
     ]
    },
    {
     "name": "stderr",
     "output_type": "stream",
     "text": [
      "\u001b[32m[I 2022-05-05 13:16:24,206]\u001b[0m Trial 7 finished with value: 0.6067073170731707 and parameters: {'n_estimators': 745, 'reg_alpha': 0.11013084302692956, 'reg_lambda': 0.17339277328220726}. Best is trial 5 with value: 0.6270325203252033.\u001b[0m\n"
     ]
    },
    {
     "name": "stdout",
     "output_type": "stream",
     "text": [
      "[1. 1. 1. ... 1. 1. 1.] [2. 1. 2. ... 1. 0. 1.]\n"
     ]
    },
    {
     "name": "stderr",
     "output_type": "stream",
     "text": [
      "C:\\Users\\bazif\\anaconda3\\envs\\TensorflowGPU\\lib\\site-packages\\lightgbm\\engine.py:177: UserWarning: Found `n_estimators` in params. Will use it instead of argument\n",
      "  _log_warning(f\"Found `{alias}` in params. Will use it instead of argument\")\n"
     ]
    },
    {
     "name": "stdout",
     "output_type": "stream",
     "text": [
      "[LightGBM] [Info] Total Bins 375680\n",
      "[LightGBM] [Info] Number of data points in the train set: 5904, number of used features: 1828\n",
      "[LightGBM] [Info] Start training from score 0.992717\n"
     ]
    },
    {
     "name": "stderr",
     "output_type": "stream",
     "text": [
      "\u001b[32m[I 2022-05-05 13:16:39,376]\u001b[0m Trial 8 finished with value: 0.6163617886178862 and parameters: {'n_estimators': 237, 'reg_alpha': 0.22619493930568133, 'reg_lambda': 0.2716334521122593}. Best is trial 5 with value: 0.6270325203252033.\u001b[0m\n"
     ]
    },
    {
     "name": "stdout",
     "output_type": "stream",
     "text": [
      "[ 1.  1.  0. ... -0.  0.  1.] [0. 1. 0. ... 0. 0. 0.]\n"
     ]
    },
    {
     "name": "stderr",
     "output_type": "stream",
     "text": [
      "C:\\Users\\bazif\\anaconda3\\envs\\TensorflowGPU\\lib\\site-packages\\lightgbm\\engine.py:177: UserWarning: Found `n_estimators` in params. Will use it instead of argument\n",
      "  _log_warning(f\"Found `{alias}` in params. Will use it instead of argument\")\n"
     ]
    },
    {
     "name": "stdout",
     "output_type": "stream",
     "text": [
      "[LightGBM] [Info] Total Bins 375799\n",
      "[LightGBM] [Info] Number of data points in the train set: 5904, number of used features: 1838\n",
      "[LightGBM] [Info] Start training from score 0.999661\n"
     ]
    },
    {
     "name": "stderr",
     "output_type": "stream",
     "text": [
      "\u001b[32m[I 2022-05-05 13:17:06,575]\u001b[0m Trial 9 finished with value: 0.6285569105691057 and parameters: {'n_estimators': 443, 'reg_alpha': 0.17103077340561154, 'reg_lambda': 0.13115083851396103}. Best is trial 9 with value: 0.6285569105691057.\u001b[0m\n"
     ]
    },
    {
     "name": "stdout",
     "output_type": "stream",
     "text": [
      "[2. 1. 1. ... 2. 1. 1.] [2. 1. 0. ... 2. 2. 0.]\n",
      "Number of finished trials: 10\n",
      "Best trial:\n"
     ]
    }
   ],
   "source": [
    "import lightgbm as lgb\n",
    "import optuna\n",
    "from sklearn.model_selection import train_test_split\n",
    "import sklearn\n",
    "import optuna\n",
    "def objective(trial):\n",
    "    X_train,X_test,y_train,y_test = train_test_split(X,y,test_size=0.25)\n",
    "    dtrain = lgb.Dataset(X_train, label=y_train)\n",
    "\n",
    "    param = {\n",
    "        \"n_estimators\":trial.suggest_int(\"n_estimators\", 100, 1000),\n",
    "         'force_col_wise': 'true',\n",
    "         'reg_alpha' : trial.suggest_float(\"reg_alpha\",0,.3),\n",
    "         'reg_lambda' : trial.suggest_float(\"reg_lambda\",0,.3)\n",
    "    }\n",
    "    clf=lgb.LGBMClassifier(**param)\n",
    "    gbm = lgb.train(param, dtrain)\n",
    "    preds = gbm.predict(X_test)\n",
    "    pred_labels = np.rint(preds)\n",
    "    print(pred_labels,y_test)\n",
    "    accuracy = sklearn.metrics.accuracy_score(y_test, pred_labels)\n",
    "    return accuracy\n",
    "study = optuna.create_study(direction=\"maximize\")\n",
    "study.optimize(objective, n_trials=10)\n",
    "print(\"Number of finished trials: {}\".format(len(study.trials)))\n",
    "\n",
    "print(\"Best trial:\")\n",
    "trial = study.best_trial\n"
   ]
  },
  {
   "cell_type": "code",
   "execution_count": 16,
   "id": "04106368",
   "metadata": {},
   "outputs": [
    {
     "name": "stdout",
     "output_type": "stream",
     "text": [
      "FrozenTrial(number=9, values=[0.6285569105691057], datetime_start=datetime.datetime(2022, 5, 5, 13, 16, 39, 376433), datetime_complete=datetime.datetime(2022, 5, 5, 13, 17, 6, 575704), params={'n_estimators': 443, 'reg_alpha': 0.17103077340561154, 'reg_lambda': 0.13115083851396103}, distributions={'n_estimators': IntUniformDistribution(high=1000, low=100, step=1), 'reg_alpha': UniformDistribution(high=0.3, low=0.0), 'reg_lambda': UniformDistribution(high=0.3, low=0.0)}, user_attrs={}, system_attrs={}, intermediate_values={}, trial_id=9, state=TrialState.COMPLETE, value=None)\n"
     ]
    }
   ],
   "source": [
    "print(trial)"
   ]
  },
  {
   "cell_type": "code",
   "execution_count": 6,
   "id": "e8e7f2c0",
   "metadata": {},
   "outputs": [
    {
     "name": "stdout",
     "output_type": "stream",
     "text": [
      "[[  0.          60.105076     0.         ...   1.6668444    0.55340534\n",
      "    0.        ]\n",
      " [  0.          48.090134     0.         ...   0.           0.5371359\n",
      "    0.        ]\n",
      " [  0.          54.250893     0.         ...   0.           0.6163479\n",
      "    0.        ]\n",
      " ...\n",
      " [  0.          74.922195     0.         ...  10.39827      0.47490913\n",
      "    0.        ]\n",
      " [  0.         109.463135     0.         ...   0.           1.6297406\n",
      "    0.        ]\n",
      " [  0.          81.434784     0.         ...   0.           0.47103834\n",
      "    0.        ]]\n",
      "LightGBM Model accuracy score: 0.8058\n"
     ]
    }
   ],
   "source": [
    "print(X_train)\n",
    "import lightgbm as lgb\n",
    "clf = lgb.LGBMClassifier(objective=\"multiclass\",n_estimators=1000)\n",
    "clf.fit(X_train, y_train)\n",
    "# predict the results\n",
    "y_pred=clf.predict(X_test)\n",
    "from sklearn.metrics import accuracy_score\n",
    "accuracy=accuracy_score(y_pred, y_test)\n",
    "print('LightGBM Model accuracy score: {0:0.4f}'.format(accuracy_score(y_test, y_pred)))"
   ]
  },
  {
   "cell_type": "code",
   "execution_count": 25,
   "id": "55a8597f",
   "metadata": {},
   "outputs": [
    {
     "name": "stdout",
     "output_type": "stream",
     "text": [
      "Correct predictions total = 635\n",
      "Total predictions 788\n",
      "Accuracy 0.8058375634517766\n"
     ]
    },
    {
     "data": {
      "image/png": "[encoded data removed]",
      "text/plain": [
       "<Figure size 432x288 with 2 Axes>"
      ]
     },
     "metadata": {
      "needs_background": "light"
     },
     "output_type": "display_data"
    }
   ],
   "source": [
    "from sklearn.metrics import confusion_matrix, ConfusionMatrixDisplay\n",
    "cm  = confusion_matrix(y_pred,y_test)\n",
    "ConfusionMatrixDisplay(cm).plot()\n",
    "print(\"Correct predictions total = \"+ str(cm[0][0]+cm[1][1]+cm[2][2]))\n",
    "print(\"Total predictions \" + str(np.sum(cm)))\n",
    "print(\"Accuracy \"+ str((cm[0][0]+cm[1][1]+cm[2][2])/np.sum(cm)) )"
   ]
  },
  {
   "cell_type": "code",
   "execution_count": 26,
   "id": "f175f614",
   "metadata": {},
   "outputs": [
    {
     "name": "stdout",
     "output_type": "stream",
     "text": [
      "              precision    recall  f1-score   support\n",
      "\n",
      "         0.0       0.77      0.86      0.81       270\n",
      "         1.0       0.87      0.76      0.81       257\n",
      "         2.0       0.80      0.80      0.80       261\n",
      "\n",
      "    accuracy                           0.81       788\n",
      "   macro avg       0.81      0.81      0.81       788\n",
      "weighted avg       0.81      0.81      0.81       788\n",
      "\n"
     ]
    }
   ],
   "source": [
    "from sklearn.metrics import classification_report\n",
    "print(classification_report(y_test, y_pred))"
   ]
  },
  {
   "cell_type": "code",
   "execution_count": null,
   "id": "701c5ede",
   "metadata": {},
   "outputs": [],
   "source": []
  },
  {
   "cell_type": "code",
   "execution_count": null,
   "id": "f2a915be",
   "metadata": {},
   "outputs": [],
   "source": []
  }
 ],
 "metadata": {
  "kernelspec": {
   "display_name": "Python 3 (ipykernel)",
   "language": "python",
   "name": "python3"
  },
  "language_info": {
   "codemirror_mode": {
    "name": "ipython",
    "version": 3
   },
   "file_extension": ".py",
   "mimetype": "text/x-python",
   "name": "python",
   "nbconvert_exporter": "python",
   "pygments_lexer": "ipython3",
   "version": "3.9.7"
  }
 },
 "nbformat": 4,
 "nbformat_minor": 5
}
