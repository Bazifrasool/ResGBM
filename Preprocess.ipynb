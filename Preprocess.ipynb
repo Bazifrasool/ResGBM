{
 "cells": [
  {
   "cell_type": "code",
   "execution_count": 2,
   "id": "c01d04b4",
   "metadata": {},
   "outputs": [
    {
     "name": "stdout",
     "output_type": "stream",
     "text": [
      "          image  MEL   NV  BCC   AK  BKL   DF  VASC  SCC  UNK\n",
      "0  ISIC_0000000  0.0  1.0  0.0  0.0  0.0  0.0   0.0  0.0  0.0\n",
      "1  ISIC_0000001  0.0  1.0  0.0  0.0  0.0  0.0   0.0  0.0  0.0\n",
      "2  ISIC_0000002  1.0  0.0  0.0  0.0  0.0  0.0   0.0  0.0  0.0\n",
      "3  ISIC_0000003  0.0  1.0  0.0  0.0  0.0  0.0   0.0  0.0  0.0\n",
      "4  ISIC_0000004  1.0  0.0  0.0  0.0  0.0  0.0   0.0  0.0  0.0\n"
     ]
    }
   ],
   "source": [
    "import pandas as pd\n",
    "dataset = pd.read_csv(\"ISIC_2019_Training_GroundTruth.csv\")\n",
    "print(dataset.head())\n",
    "import shutil\n",
    "import os"
   ]
  },
  {
   "cell_type": "code",
   "execution_count": null,
   "id": "2b450aaf",
   "metadata": {},
   "outputs": [],
   "source": [
    "def movetodirectory():\n",
    "    try:\n",
    "        os.mkdir(\"train\")\n",
    "        os.chdir(\"train\")\n",
    "        os.mkdir(\"MEL\")\n",
    "        os.mkdir(\"NV\")\n",
    "        os.mkdir(\"BCC\")\n",
    "        os.mkdir(\"AK\")\n",
    "        os.mkdir(\"BKL\")\n",
    "        os.mkdir(\"DF\")\n",
    "        os.mkdir(\"VASC\")\n",
    "        os.mkdir(\"SCC\")\n",
    "        os.mkdir(\"UNK\")\n",
    "    except:\n",
    "        os.chdir(\"train\")\n",
    "        print(\"Already exists !\")\n",
    "    for i,each in enumerate(dataset[\"MEL\"]):\n",
    "        if(each>0.1):\n",
    "            shutil.copy(\"../ISIC_2019_Training_Input/\"+ dataset[\"image\"][i]+\".jpg\",\"./MEL\")\n",
    "    for i,each in enumerate(dataset[\"NV\"]):\n",
    "        if(each>0.1):\n",
    "            shutil.copy(\"../ISIC_2019_Training_Input/\"+ dataset[\"image\"][i]+\".jpg\",\"./NV\")\n",
    "    for i,each in enumerate(dataset[\"BCC\"]):\n",
    "        if(each>0.1):\n",
    "            shutil.copy(\"../ISIC_2019_Training_Input/\" + dataset[\"image\"][i]+\".jpg\",\"./BCC\")\n",
    "    for i,each in enumerate(dataset[\"AK\"]):\n",
    "        if(each>0.1):\n",
    "            shutil.copy(\"../ISIC_2019_Training_Input/\" + dataset[\"image\"][i]+\".jpg\",\"./AK\")\n",
    "    for i,each in enumerate(dataset[\"BKL\"]):\n",
    "        if(each>0.1):\n",
    "            shutil.copy(\"../ISIC_2019_Training_Input/\"+dataset[\"image\"][i]+\".jpg\",\"./BKL\")\n",
    "    for i,each in enumerate(dataset[\"DF\"]):\n",
    "        if(each>0.1):\n",
    "            shutil.copy(\"../ISIC_2019_Training_Input/\"+dataset[\"image\"][i]+\".jpg\",\"./DF\")\n",
    "    for i,each in enumerate(dataset[\"VASC\"]):\n",
    "        if(each>0.1):\n",
    "            shutil.copy(\"../ISIC_2019_Training_Input/\"+dataset[\"image\"][i]+\".jpg\",\"./VASC\")\n",
    "    for i,each in enumerate(dataset[\"SCC\"]):\n",
    "        if(each>0.1):\n",
    "            shutil.copy(\"../ISIC_2019_Training_Input/\"+dataset[\"image\"][i]+\".jpg\",\"./SCC\")\n",
    "    for i,each in enumerate(dataset[\"UNK\"]):\n",
    "        if(each>0.1):\n",
    "            shutil.copy(\"../ISIC_2019_Training_Input/\"+dataset[\"image\"][i]+\".jpg\",\"./UNK\")\n",
    "movetodirectory()"
   ]
  },
  {
   "cell_type": "code",
   "execution_count": 3,
   "id": "9682a297",
   "metadata": {},
   "outputs": [
    {
     "ename": "FileNotFoundError",
     "evalue": "[WinError 3] The system cannot find the path specified: './MEL'",
     "output_type": "error",
     "traceback": [
      "\u001b[1;31m---------------------------------------------------------------------------\u001b[0m",
      "\u001b[1;31mFileNotFoundError\u001b[0m                         Traceback (most recent call last)",
      "\u001b[1;32m~\\AppData\\Local\\Temp/ipykernel_22252/4079775744.py\u001b[0m in \u001b[0;36m<module>\u001b[1;34m\u001b[0m\n\u001b[0;32m      1\u001b[0m \u001b[1;32mimport\u001b[0m \u001b[0mmatplotlib\u001b[0m\u001b[1;33m.\u001b[0m\u001b[0mpyplot\u001b[0m \u001b[1;32mas\u001b[0m \u001b[0mplt\u001b[0m\u001b[1;33m\u001b[0m\u001b[1;33m\u001b[0m\u001b[0m\n\u001b[1;32m----> 2\u001b[1;33m \u001b[0mlist_of_files\u001b[0m \u001b[1;33m=\u001b[0m \u001b[0mos\u001b[0m\u001b[1;33m.\u001b[0m\u001b[0mlistdir\u001b[0m\u001b[1;33m(\u001b[0m\u001b[1;34m\"./MEL\"\u001b[0m\u001b[1;33m)\u001b[0m\u001b[1;33m\u001b[0m\u001b[1;33m\u001b[0m\u001b[0m\n\u001b[0m\u001b[0;32m      3\u001b[0m \u001b[0mplt\u001b[0m\u001b[1;33m.\u001b[0m\u001b[0mimshow\u001b[0m\u001b[1;33m(\u001b[0m\u001b[0mplt\u001b[0m\u001b[1;33m.\u001b[0m\u001b[0mimread\u001b[0m\u001b[1;33m(\u001b[0m\u001b[1;34m\"./MEL/\"\u001b[0m\u001b[1;33m+\u001b[0m\u001b[0mlist_of_files\u001b[0m\u001b[1;33m[\u001b[0m\u001b[1;36m0\u001b[0m\u001b[1;33m]\u001b[0m\u001b[1;33m)\u001b[0m\u001b[1;33m)\u001b[0m\u001b[1;33m\u001b[0m\u001b[1;33m\u001b[0m\u001b[0m\n",
      "\u001b[1;31mFileNotFoundError\u001b[0m: [WinError 3] The system cannot find the path specified: './MEL'"
     ]
    }
   ],
   "source": [
    "import matplotlib.pyplot as plt\n",
    "os.chdir(\"train\")\n",
    "list_of_files = os.listdir(\"./MEL\")\n",
    "plt.imshow(plt.imread(\"./MEL/\"+list_of_files[0]))"
   ]
  },
  {
   "cell_type": "code",
   "execution_count": null,
   "id": "fc64e2db",
   "metadata": {},
   "outputs": [],
   "source": []
  }
 ],
 "metadata": {
  "kernelspec": {
   "display_name": "Python 3 (ipykernel)",
   "language": "python",
   "name": "python3"
  },
  "language_info": {
   "codemirror_mode": {
    "name": "ipython",
    "version": 3
   },
   "file_extension": ".py",
   "mimetype": "text/x-python",
   "name": "python",
   "nbconvert_exporter": "python",
   "pygments_lexer": "ipython3",
   "version": "3.9.7"
  }
 },
 "nbformat": 4,
 "nbformat_minor": 5
}
