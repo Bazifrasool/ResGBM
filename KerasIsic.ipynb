{
 "cells": [
  {
   "cell_type": "code",
   "execution_count": 1,
   "id": "4711fed6",
   "metadata": {},
   "outputs": [],
   "source": [
    "CFG = dict(\n",
    "        batch_size        =  16,     # 8; 16; 32; 64; bigger batch size => moemry allocation issue\n",
    "        epochs            =  100,   # 5; 10; 20;\n",
    "        verbose           =   1,    # 0; 1\n",
    "        workers           =   4,    # 1; 2; 3\n",
    "\n",
    "        optimizer         = 'adam', # 'SGD', 'RMSprop'\n",
    "\n",
    "        RANDOM_STATE      =  123,   \n",
    "    \n",
    "        # Path to save a model\n",
    "        path_model        = '../working/',\n",
    "\n",
    "        # Images sizes\n",
    "        img_size          = 224, \n",
    "        img_height        = 224, \n",
    "        img_width         = 224, \n",
    "\n",
    "        # Images augs\n",
    "        ROTATION          = 180.0,\n",
    "        ZOOM              =  10.0,\n",
    "        ZOOM_RANGE        =  [0.9,1.1],\n",
    "        HZOOM             =  10.0,\n",
    "        WZOOM             =  10.0,\n",
    "        HSHIFT            =  10.0,\n",
    "        WSHIFT            =  10.0,\n",
    "        SHEAR             =   5.0,\n",
    "        HFLIP             = True,\n",
    "        VFLIP             = True,\n",
    "\n",
    "        # Postprocessing\n",
    "        label_smooth_fac  =  0.00,  # 0.01; 0.05; 0.1; 0.2;    \n",
    ")"
   ]
  }
 ],
 "metadata": {
  "kernelspec": {
   "display_name": "Python 3 (ipykernel)",
   "language": "python",
   "name": "python3"
  },
  "language_info": {
   "codemirror_mode": {
    "name": "ipython",
    "version": 3
   },
   "file_extension": ".py",
   "mimetype": "text/x-python",
   "name": "python",
   "nbconvert_exporter": "python",
   "pygments_lexer": "ipython3",
   "version": "3.9.7"
  }
 },
 "nbformat": 4,
 "nbformat_minor": 5
}
